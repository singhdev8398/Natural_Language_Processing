{
  "nbformat": 4,
  "nbformat_minor": 0,
  "metadata": {
    "colab": {
      "provenance": [],
      "toc_visible": true
    },
    "kernelspec": {
      "name": "python3",
      "display_name": "Python 3"
    },
    "language_info": {
      "name": "python"
    }
  },
  "cells": [
    {
      "cell_type": "code",
      "execution_count": 1,
      "metadata": {
        "id": "qzf9646jmUHJ"
      },
      "outputs": [],
      "source": [
        "paragraph=\"This is the NLP session that is going on and filnnally we are happy. Is everyone happy. iNeuron is a company where we teaches the coding\"\n"
      ]
    },
    {
      "cell_type": "code",
      "source": [
        "import nltk"
      ],
      "metadata": {
        "id": "OeSxzdAKmYR0"
      },
      "execution_count": 2,
      "outputs": []
    },
    {
      "cell_type": "code",
      "source": [
        "nltk.download('wordnet')"
      ],
      "metadata": {
        "colab": {
          "base_uri": "https://localhost:8080/"
        },
        "id": "Wlr3wblnTfMi",
        "outputId": "3856ff3d-0379-46da-e059-8a93e205d78d"
      },
      "execution_count": 3,
      "outputs": [
        {
          "output_type": "stream",
          "name": "stderr",
          "text": [
            "[nltk_data] Downloading package wordnet to /root/nltk_data...\n"
          ]
        },
        {
          "output_type": "execute_result",
          "data": {
            "text/plain": [
              "True"
            ]
          },
          "metadata": {},
          "execution_count": 3
        }
      ]
    },
    {
      "cell_type": "code",
      "source": [
        "nltk.download('punkt')"
      ],
      "metadata": {
        "colab": {
          "base_uri": "https://localhost:8080/"
        },
        "id": "225OYofeTmag",
        "outputId": "86905f7f-d8b4-484e-c258-1b6e5d4ee928"
      },
      "execution_count": 4,
      "outputs": [
        {
          "output_type": "stream",
          "name": "stderr",
          "text": [
            "[nltk_data] Downloading package punkt to /root/nltk_data...\n",
            "[nltk_data]   Unzipping tokenizers/punkt.zip.\n"
          ]
        },
        {
          "output_type": "execute_result",
          "data": {
            "text/plain": [
              "True"
            ]
          },
          "metadata": {},
          "execution_count": 4
        }
      ]
    },
    {
      "cell_type": "code",
      "source": [
        "# tokenization\n",
        "sentences=nltk.sent_tokenize(paragraph)\n",
        "sentences"
      ],
      "metadata": {
        "colab": {
          "base_uri": "https://localhost:8080/"
        },
        "id": "PkM-L20DmbeC",
        "outputId": "027d32cb-fba9-486b-90f3-19ece8098065"
      },
      "execution_count": 5,
      "outputs": [
        {
          "output_type": "execute_result",
          "data": {
            "text/plain": [
              "['This is the NLP session that is going on and filnnally we are happy.',\n",
              " 'Is everyone happy.',\n",
              " 'iNeuron is a company where we teaches the coding']"
            ]
          },
          "metadata": {},
          "execution_count": 5
        }
      ]
    },
    {
      "cell_type": "code",
      "source": [
        "nltk.word_tokenize(paragraph)"
      ],
      "metadata": {
        "colab": {
          "base_uri": "https://localhost:8080/"
        },
        "id": "JH3hCsT9nFVx",
        "outputId": "23170256-ee30-460b-b607-66a64aa02027"
      },
      "execution_count": 6,
      "outputs": [
        {
          "output_type": "execute_result",
          "data": {
            "text/plain": [
              "['This',\n",
              " 'is',\n",
              " 'the',\n",
              " 'NLP',\n",
              " 'session',\n",
              " 'that',\n",
              " 'is',\n",
              " 'going',\n",
              " 'on',\n",
              " 'and',\n",
              " 'filnnally',\n",
              " 'we',\n",
              " 'are',\n",
              " 'happy',\n",
              " '.',\n",
              " 'Is',\n",
              " 'everyone',\n",
              " 'happy',\n",
              " '.',\n",
              " 'iNeuron',\n",
              " 'is',\n",
              " 'a',\n",
              " 'company',\n",
              " 'where',\n",
              " 'we',\n",
              " 'teaches',\n",
              " 'the',\n",
              " 'coding']"
            ]
          },
          "metadata": {},
          "execution_count": 6
        }
      ]
    },
    {
      "cell_type": "code",
      "source": [
        "from nltk.stem import PorterStemmer"
      ],
      "metadata": {
        "id": "4anJG84XnZjA"
      },
      "execution_count": 7,
      "outputs": []
    },
    {
      "cell_type": "code",
      "source": [
        "stemmer=PorterStemmer()"
      ],
      "metadata": {
        "id": "zZHi1TfkndMY"
      },
      "execution_count": 8,
      "outputs": []
    },
    {
      "cell_type": "code",
      "source": [
        "stemmer.stem(\"history\")"
      ],
      "metadata": {
        "colab": {
          "base_uri": "https://localhost:8080/",
          "height": 36
        },
        "id": "AIT7UVhIngFI",
        "outputId": "74f37cac-9f4e-40fa-9f8b-52766d417508"
      },
      "execution_count": 9,
      "outputs": [
        {
          "output_type": "execute_result",
          "data": {
            "text/plain": [
              "'histori'"
            ],
            "application/vnd.google.colaboratory.intrinsic+json": {
              "type": "string"
            }
          },
          "metadata": {},
          "execution_count": 9
        }
      ]
    },
    {
      "cell_type": "code",
      "source": [
        "from nltk.stem import WordNetLemmatizer"
      ],
      "metadata": {
        "id": "i0N-wDz1nimM"
      },
      "execution_count": 10,
      "outputs": []
    },
    {
      "cell_type": "code",
      "source": [
        "lemmatizer=WordNetLemmatizer()"
      ],
      "metadata": {
        "id": "rWxbx31hnled"
      },
      "execution_count": 11,
      "outputs": []
    },
    {
      "cell_type": "code",
      "source": [
        "lemmatizer.lemmatize(\"happy\")"
      ],
      "metadata": {
        "colab": {
          "base_uri": "https://localhost:8080/",
          "height": 36
        },
        "id": "4a3mPp3MnqHN",
        "outputId": "348100e3-8b41-4514-8b2e-8c5a61c89e9e"
      },
      "execution_count": 12,
      "outputs": [
        {
          "output_type": "execute_result",
          "data": {
            "text/plain": [
              "'happy'"
            ],
            "application/vnd.google.colaboratory.intrinsic+json": {
              "type": "string"
            }
          },
          "metadata": {},
          "execution_count": 12
        }
      ]
    },
    {
      "cell_type": "code",
      "source": [
        "nltk.download('wordnet')"
      ],
      "metadata": {
        "colab": {
          "base_uri": "https://localhost:8080/"
        },
        "id": "gylzIalOn8U6",
        "outputId": "b9bcb0d0-91d4-4804-c23f-92f590c06ad3"
      },
      "execution_count": 13,
      "outputs": [
        {
          "output_type": "stream",
          "name": "stderr",
          "text": [
            "[nltk_data] Downloading package wordnet to /root/nltk_data...\n",
            "[nltk_data]   Package wordnet is already up-to-date!\n"
          ]
        },
        {
          "output_type": "execute_result",
          "data": {
            "text/plain": [
              "True"
            ]
          },
          "metadata": {},
          "execution_count": 13
        }
      ]
    },
    {
      "cell_type": "code",
      "source": [
        "nltk.word_tokenize(paragraph)[0]"
      ],
      "metadata": {
        "colab": {
          "base_uri": "https://localhost:8080/",
          "height": 36
        },
        "id": "IR__qOM9rVA8",
        "outputId": "599d9a7f-aba1-4457-ce8a-15e681a82ca3"
      },
      "execution_count": 14,
      "outputs": [
        {
          "output_type": "execute_result",
          "data": {
            "text/plain": [
              "'This'"
            ],
            "application/vnd.google.colaboratory.intrinsic+json": {
              "type": "string"
            }
          },
          "metadata": {},
          "execution_count": 14
        }
      ]
    },
    {
      "cell_type": "code",
      "source": [
        "corpus=[]\n",
        "for i in range(len(sentences)):\n",
        "  words=nltk.word_tokenize(sentences[i])\n",
        "  words=[stemmer.stem(word) for word in words]\n",
        "  corpus.append(' '.join(words))"
      ],
      "metadata": {
        "id": "zIzNgKoiosmU"
      },
      "execution_count": 15,
      "outputs": []
    },
    {
      "cell_type": "code",
      "source": [
        "corpus"
      ],
      "metadata": {
        "colab": {
          "base_uri": "https://localhost:8080/"
        },
        "id": "IcPT9WIdplvO",
        "outputId": "35ed9b5a-bc67-4d74-c4ab-0a569f9d7187"
      },
      "execution_count": 16,
      "outputs": [
        {
          "output_type": "execute_result",
          "data": {
            "text/plain": [
              "['thi is the nlp session that is go on and filnnal we are happi .',\n",
              " 'is everyon happi .',\n",
              " 'ineuron is a compani where we teach the code']"
            ]
          },
          "metadata": {},
          "execution_count": 16
        }
      ]
    },
    {
      "cell_type": "code",
      "source": [
        "corpus=[]\n",
        "for i in range(len(sentences)):\n",
        "  words=nltk.word_tokenize(sentences[i])\n",
        "  words=[lemmatizer.lemmatize(word) for word in words]\n",
        "  corpus.append(' '.join(words))"
      ],
      "metadata": {
        "id": "11xaAMr1teNW"
      },
      "execution_count": 17,
      "outputs": []
    },
    {
      "cell_type": "code",
      "source": [
        "corpus"
      ],
      "metadata": {
        "colab": {
          "base_uri": "https://localhost:8080/"
        },
        "id": "sVvVbz1juIbv",
        "outputId": "eae501d1-418b-4cde-f0c4-0a053e206bd2"
      },
      "execution_count": 18,
      "outputs": [
        {
          "output_type": "execute_result",
          "data": {
            "text/plain": [
              "['This is the NLP session that is going on and filnnally we are happy .',\n",
              " 'Is everyone happy .',\n",
              " 'iNeuron is a company where we teach the coding']"
            ]
          },
          "metadata": {},
          "execution_count": 18
        }
      ]
    },
    {
      "cell_type": "code",
      "source": [
        "para=\"Ratan Naval Tata (born 28 December 1937) is an Indian industrialist, philanthropist and former chairman of Tata Sons. He was a chairman of the Tata Group from 1990 to 2012, and interim chairman from October 2016 through February 2017. He continues to head its charitable trusts.[2][3] In 2008, he received the Padma Vibhushan, the second highest civilian honour in India, after receiving the Padma Bhushan, the third highest civilian honour in 2000.[4]He is the son of Naval Tata, who was adopted by Ratanji Tata, son of Jamsetji Tata, the founder of the Tata Group. He graduated from the Cornell University College of Architecture with a bachelor's degree in architecture.[5] He joined Tata in 1961, where he worked on the shop floor of Tata Steel. He later succeeded J. R. D. Tata as chairman of Tata Sons upon the latter's retirement in 1991. Under his tenure the Tata Group acquired Tetley, Jaguar Land Rover, and Corus, in an attempt to turn Tata from a largely India-centric group into a global business. Tata is also one of the largest philanthropists in the world, having donated around 60–65% of his income to charity.\""
      ],
      "metadata": {
        "id": "v-AST4TGvbrA"
      },
      "execution_count": 19,
      "outputs": []
    },
    {
      "cell_type": "code",
      "source": [
        "para"
      ],
      "metadata": {
        "colab": {
          "base_uri": "https://localhost:8080/",
          "height": 140
        },
        "id": "7nMxAGIJwdjf",
        "outputId": "8194f29b-ecc0-4026-a6e1-5e37c3cfe769"
      },
      "execution_count": 20,
      "outputs": [
        {
          "output_type": "execute_result",
          "data": {
            "text/plain": [
              "\"Ratan Naval Tata (born 28 December 1937) is an Indian industrialist, philanthropist and former chairman of Tata Sons. He was a chairman of the Tata Group from 1990 to 2012, and interim chairman from October 2016 through February 2017. He continues to head its charitable trusts.[2][3] In 2008, he received the Padma Vibhushan, the second highest civilian honour in India, after receiving the Padma Bhushan, the third highest civilian honour in 2000.[4]He is the son of Naval Tata, who was adopted by Ratanji Tata, son of Jamsetji Tata, the founder of the Tata Group. He graduated from the Cornell University College of Architecture with a bachelor's degree in architecture.[5] He joined Tata in 1961, where he worked on the shop floor of Tata Steel. He later succeeded J. R. D. Tata as chairman of Tata Sons upon the latter's retirement in 1991. Under his tenure the Tata Group acquired Tetley, Jaguar Land Rover, and Corus, in an attempt to turn Tata from a largely India-centric group into a global business. Tata is also one of the largest philanthropists in the world, having donated around 60–65% of his income to charity.\""
            ],
            "application/vnd.google.colaboratory.intrinsic+json": {
              "type": "string"
            }
          },
          "metadata": {},
          "execution_count": 20
        }
      ]
    },
    {
      "cell_type": "code",
      "source": [
        "sent=nltk.sent_tokenize(para)"
      ],
      "metadata": {
        "id": "j_J0lgFywiI3"
      },
      "execution_count": 21,
      "outputs": []
    },
    {
      "cell_type": "code",
      "source": [
        "sent"
      ],
      "metadata": {
        "colab": {
          "base_uri": "https://localhost:8080/"
        },
        "id": "qh55IOnnwrrH",
        "outputId": "04de755f-8923-461c-ad9a-d9fff96696ad"
      },
      "execution_count": 22,
      "outputs": [
        {
          "output_type": "execute_result",
          "data": {
            "text/plain": [
              "['Ratan Naval Tata (born 28 December 1937) is an Indian industrialist, philanthropist and former chairman of Tata Sons.',\n",
              " 'He was a chairman of the Tata Group from 1990 to 2012, and interim chairman from October 2016 through February 2017.',\n",
              " 'He continues to head its charitable trusts.',\n",
              " '[2][3] In 2008, he received the Padma Vibhushan, the second highest civilian honour in India, after receiving the Padma Bhushan, the third highest civilian honour in 2000.',\n",
              " '[4]He is the son of Naval Tata, who was adopted by Ratanji Tata, son of Jamsetji Tata, the founder of the Tata Group.',\n",
              " \"He graduated from the Cornell University College of Architecture with a bachelor's degree in architecture.\",\n",
              " '[5] He joined Tata in 1961, where he worked on the shop floor of Tata Steel.',\n",
              " \"He later succeeded J. R. D. Tata as chairman of Tata Sons upon the latter's retirement in 1991.\",\n",
              " 'Under his tenure the Tata Group acquired Tetley, Jaguar Land Rover, and Corus, in an attempt to turn Tata from a largely India-centric group into a global business.',\n",
              " 'Tata is also one of the largest philanthropists in the world, having donated around 60–65% of his income to charity.']"
            ]
          },
          "metadata": {},
          "execution_count": 22
        }
      ]
    },
    {
      "cell_type": "code",
      "source": [
        "corpus=[]\n",
        "for i in range(len(sent)):\n",
        "  words=nltk.word_tokenize(sent[i])\n",
        "  words=[lemmatizer.lemmatize(word) for word in words]\n",
        "  corpus.append(' '.join(words))"
      ],
      "metadata": {
        "id": "NnKKtt2wwwNP"
      },
      "execution_count": 23,
      "outputs": []
    },
    {
      "cell_type": "code",
      "source": [
        "corpus"
      ],
      "metadata": {
        "colab": {
          "base_uri": "https://localhost:8080/"
        },
        "id": "bgDSoI0Lw7re",
        "outputId": "ef4eaace-cb7b-42f2-aa29-20a43e0f6bca"
      },
      "execution_count": 24,
      "outputs": [
        {
          "output_type": "execute_result",
          "data": {
            "text/plain": [
              "['Ratan Naval Tata ( born 28 December 1937 ) is an Indian industrialist , philanthropist and former chairman of Tata Sons .',\n",
              " 'He wa a chairman of the Tata Group from 1990 to 2012 , and interim chairman from October 2016 through February 2017 .',\n",
              " 'He continues to head it charitable trust .',\n",
              " '[ 2 ] [ 3 ] In 2008 , he received the Padma Vibhushan , the second highest civilian honour in India , after receiving the Padma Bhushan , the third highest civilian honour in 2000 .',\n",
              " '[ 4 ] He is the son of Naval Tata , who wa adopted by Ratanji Tata , son of Jamsetji Tata , the founder of the Tata Group .',\n",
              " \"He graduated from the Cornell University College of Architecture with a bachelor 's degree in architecture .\",\n",
              " '[ 5 ] He joined Tata in 1961 , where he worked on the shop floor of Tata Steel .',\n",
              " \"He later succeeded J. R. D. Tata a chairman of Tata Sons upon the latter 's retirement in 1991 .\",\n",
              " 'Under his tenure the Tata Group acquired Tetley , Jaguar Land Rover , and Corus , in an attempt to turn Tata from a largely India-centric group into a global business .',\n",
              " 'Tata is also one of the largest philanthropist in the world , having donated around 60–65 % of his income to charity .']"
            ]
          },
          "metadata": {},
          "execution_count": 24
        }
      ]
    },
    {
      "cell_type": "code",
      "source": [
        "lemmatizer.lemmatize(\"was\")"
      ],
      "metadata": {
        "colab": {
          "base_uri": "https://localhost:8080/",
          "height": 36
        },
        "id": "1uKyBPW_w9Am",
        "outputId": "f8a4dcaa-9f18-49b0-ae65-795477c70297"
      },
      "execution_count": 25,
      "outputs": [
        {
          "output_type": "execute_result",
          "data": {
            "text/plain": [
              "'wa'"
            ],
            "application/vnd.google.colaboratory.intrinsic+json": {
              "type": "string"
            }
          },
          "metadata": {},
          "execution_count": 25
        }
      ]
    },
    {
      "cell_type": "code",
      "source": [
        "corpus1=[]\n",
        "for i in range(len(sent)):\n",
        "  words=nltk.word_tokenize(sent[i])\n",
        "  words=[stemmer.stem(word) for word in words]\n",
        "  corpus.append(' '.join(words))"
      ],
      "metadata": {
        "id": "VLXd99SaxOZx"
      },
      "execution_count": 26,
      "outputs": []
    },
    {
      "cell_type": "code",
      "source": [
        "corpus1"
      ],
      "metadata": {
        "colab": {
          "base_uri": "https://localhost:8080/"
        },
        "id": "MzspoVt1xhW3",
        "outputId": "a05eb2a0-27bf-4312-cb27-80c27ef6158e"
      },
      "execution_count": 27,
      "outputs": [
        {
          "output_type": "execute_result",
          "data": {
            "text/plain": [
              "[]"
            ]
          },
          "metadata": {},
          "execution_count": 27
        }
      ]
    },
    {
      "cell_type": "markdown",
      "source": [
        "**What are Stop words?**\n",
        "\n",
        "__Stop Words:__ A stop word is a commonly used word (such as “the”, “a”, “an”, “in”) that a search engine has been programmed to ignore, both when indexing entries for searching and when retrieving them as the result of a search query.\n",
        "\n",
        "We would not want these words to take up space in our database, or taking up valuable processing time. For this, we can remove them easily, by storing a list of words that you consider to stop words. NLTK(Natural Language Toolkit) in python has a list of stopwords stored in 16 different languages. You can find them in the nltk_data directory."
      ],
      "metadata": {
        "id": "OnpjRk0ny0BP"
      }
    },
    {
      "cell_type": "code",
      "source": [
        "nltk.download('stopwords')"
      ],
      "metadata": {
        "colab": {
          "base_uri": "https://localhost:8080/"
        },
        "id": "8RmZa2nKxiie",
        "outputId": "2334c0a9-5ac5-4aa8-8c6a-5484d0fe1a8a"
      },
      "execution_count": 28,
      "outputs": [
        {
          "output_type": "stream",
          "name": "stderr",
          "text": [
            "[nltk_data] Downloading package stopwords to /root/nltk_data...\n",
            "[nltk_data]   Unzipping corpora/stopwords.zip.\n"
          ]
        },
        {
          "output_type": "execute_result",
          "data": {
            "text/plain": [
              "True"
            ]
          },
          "metadata": {},
          "execution_count": 28
        }
      ]
    },
    {
      "cell_type": "code",
      "source": [
        "from nltk.corpus import stopwords"
      ],
      "metadata": {
        "id": "hiYmqT1M1hFg"
      },
      "execution_count": 29,
      "outputs": []
    },
    {
      "cell_type": "code",
      "source": [
        "stop_words=stopwords.words('english')\n",
        "stop_words\n"
      ],
      "metadata": {
        "colab": {
          "base_uri": "https://localhost:8080/"
        },
        "id": "AOefZlJEz_We",
        "outputId": "35ee48ea-093c-4f5e-eda3-b730cd98ec47"
      },
      "execution_count": 30,
      "outputs": [
        {
          "output_type": "execute_result",
          "data": {
            "text/plain": [
              "['i',\n",
              " 'me',\n",
              " 'my',\n",
              " 'myself',\n",
              " 'we',\n",
              " 'our',\n",
              " 'ours',\n",
              " 'ourselves',\n",
              " 'you',\n",
              " \"you're\",\n",
              " \"you've\",\n",
              " \"you'll\",\n",
              " \"you'd\",\n",
              " 'your',\n",
              " 'yours',\n",
              " 'yourself',\n",
              " 'yourselves',\n",
              " 'he',\n",
              " 'him',\n",
              " 'his',\n",
              " 'himself',\n",
              " 'she',\n",
              " \"she's\",\n",
              " 'her',\n",
              " 'hers',\n",
              " 'herself',\n",
              " 'it',\n",
              " \"it's\",\n",
              " 'its',\n",
              " 'itself',\n",
              " 'they',\n",
              " 'them',\n",
              " 'their',\n",
              " 'theirs',\n",
              " 'themselves',\n",
              " 'what',\n",
              " 'which',\n",
              " 'who',\n",
              " 'whom',\n",
              " 'this',\n",
              " 'that',\n",
              " \"that'll\",\n",
              " 'these',\n",
              " 'those',\n",
              " 'am',\n",
              " 'is',\n",
              " 'are',\n",
              " 'was',\n",
              " 'were',\n",
              " 'be',\n",
              " 'been',\n",
              " 'being',\n",
              " 'have',\n",
              " 'has',\n",
              " 'had',\n",
              " 'having',\n",
              " 'do',\n",
              " 'does',\n",
              " 'did',\n",
              " 'doing',\n",
              " 'a',\n",
              " 'an',\n",
              " 'the',\n",
              " 'and',\n",
              " 'but',\n",
              " 'if',\n",
              " 'or',\n",
              " 'because',\n",
              " 'as',\n",
              " 'until',\n",
              " 'while',\n",
              " 'of',\n",
              " 'at',\n",
              " 'by',\n",
              " 'for',\n",
              " 'with',\n",
              " 'about',\n",
              " 'against',\n",
              " 'between',\n",
              " 'into',\n",
              " 'through',\n",
              " 'during',\n",
              " 'before',\n",
              " 'after',\n",
              " 'above',\n",
              " 'below',\n",
              " 'to',\n",
              " 'from',\n",
              " 'up',\n",
              " 'down',\n",
              " 'in',\n",
              " 'out',\n",
              " 'on',\n",
              " 'off',\n",
              " 'over',\n",
              " 'under',\n",
              " 'again',\n",
              " 'further',\n",
              " 'then',\n",
              " 'once',\n",
              " 'here',\n",
              " 'there',\n",
              " 'when',\n",
              " 'where',\n",
              " 'why',\n",
              " 'how',\n",
              " 'all',\n",
              " 'any',\n",
              " 'both',\n",
              " 'each',\n",
              " 'few',\n",
              " 'more',\n",
              " 'most',\n",
              " 'other',\n",
              " 'some',\n",
              " 'such',\n",
              " 'no',\n",
              " 'nor',\n",
              " 'not',\n",
              " 'only',\n",
              " 'own',\n",
              " 'same',\n",
              " 'so',\n",
              " 'than',\n",
              " 'too',\n",
              " 'very',\n",
              " 's',\n",
              " 't',\n",
              " 'can',\n",
              " 'will',\n",
              " 'just',\n",
              " 'don',\n",
              " \"don't\",\n",
              " 'should',\n",
              " \"should've\",\n",
              " 'now',\n",
              " 'd',\n",
              " 'll',\n",
              " 'm',\n",
              " 'o',\n",
              " 're',\n",
              " 've',\n",
              " 'y',\n",
              " 'ain',\n",
              " 'aren',\n",
              " \"aren't\",\n",
              " 'couldn',\n",
              " \"couldn't\",\n",
              " 'didn',\n",
              " \"didn't\",\n",
              " 'doesn',\n",
              " \"doesn't\",\n",
              " 'hadn',\n",
              " \"hadn't\",\n",
              " 'hasn',\n",
              " \"hasn't\",\n",
              " 'haven',\n",
              " \"haven't\",\n",
              " 'isn',\n",
              " \"isn't\",\n",
              " 'ma',\n",
              " 'mightn',\n",
              " \"mightn't\",\n",
              " 'mustn',\n",
              " \"mustn't\",\n",
              " 'needn',\n",
              " \"needn't\",\n",
              " 'shan',\n",
              " \"shan't\",\n",
              " 'shouldn',\n",
              " \"shouldn't\",\n",
              " 'wasn',\n",
              " \"wasn't\",\n",
              " 'weren',\n",
              " \"weren't\",\n",
              " 'won',\n",
              " \"won't\",\n",
              " 'wouldn',\n",
              " \"wouldn't\"]"
            ]
          },
          "metadata": {},
          "execution_count": 30
        }
      ]
    },
    {
      "cell_type": "code",
      "source": [
        "for i in [\"changes\",\"change\",\"changing\",'changer',\"changeable\"]:\n",
        "  print(lemmatizer.lemmatize(i))"
      ],
      "metadata": {
        "colab": {
          "base_uri": "https://localhost:8080/"
        },
        "id": "Gs_jPu4l0jfu",
        "outputId": "547e00be-3ab8-4300-f376-efc125dd957d"
      },
      "execution_count": 31,
      "outputs": [
        {
          "output_type": "stream",
          "name": "stdout",
          "text": [
            "change\n",
            "change\n",
            "changing\n",
            "changer\n",
            "changeable\n"
          ]
        }
      ]
    },
    {
      "cell_type": "code",
      "source": [
        "lemmatizer.lemmatize('better',pos=\"a\")"
      ],
      "metadata": {
        "colab": {
          "base_uri": "https://localhost:8080/",
          "height": 36
        },
        "id": "UXKLEGpm3-As",
        "outputId": "83ffe30b-0a64-4a9d-bb56-7e290cbfbfdc"
      },
      "execution_count": 32,
      "outputs": [
        {
          "output_type": "execute_result",
          "data": {
            "text/plain": [
              "'good'"
            ],
            "application/vnd.google.colaboratory.intrinsic+json": {
              "type": "string"
            }
          },
          "metadata": {},
          "execution_count": 32
        }
      ]
    },
    {
      "cell_type": "code",
      "source": [
        "corpus=[]\n",
        "for i in range(len(sent)):\n",
        "  words=nltk.word_tokenize(sent[i])\n",
        "  words=[lemmatizer.lemmatize(word) for word in words if word not in stop_words]\n",
        "  print(words)\n",
        "  corpus.append(' '.join(words))"
      ],
      "metadata": {
        "colab": {
          "base_uri": "https://localhost:8080/"
        },
        "id": "QlM5oHsZ4XrF",
        "outputId": "933e0b70-eb50-44bd-8f6f-9beda276c436"
      },
      "execution_count": 33,
      "outputs": [
        {
          "output_type": "stream",
          "name": "stdout",
          "text": [
            "['Ratan', 'Naval', 'Tata', '(', 'born', '28', 'December', '1937', ')', 'Indian', 'industrialist', ',', 'philanthropist', 'former', 'chairman', 'Tata', 'Sons', '.']\n",
            "['He', 'chairman', 'Tata', 'Group', '1990', '2012', ',', 'interim', 'chairman', 'October', '2016', 'February', '2017', '.']\n",
            "['He', 'continues', 'head', 'charitable', 'trust', '.']\n",
            "['[', '2', ']', '[', '3', ']', 'In', '2008', ',', 'received', 'Padma', 'Vibhushan', ',', 'second', 'highest', 'civilian', 'honour', 'India', ',', 'receiving', 'Padma', 'Bhushan', ',', 'third', 'highest', 'civilian', 'honour', '2000', '.']\n",
            "['[', '4', ']', 'He', 'son', 'Naval', 'Tata', ',', 'adopted', 'Ratanji', 'Tata', ',', 'son', 'Jamsetji', 'Tata', ',', 'founder', 'Tata', 'Group', '.']\n",
            "['He', 'graduated', 'Cornell', 'University', 'College', 'Architecture', 'bachelor', \"'s\", 'degree', 'architecture', '.']\n",
            "['[', '5', ']', 'He', 'joined', 'Tata', '1961', ',', 'worked', 'shop', 'floor', 'Tata', 'Steel', '.']\n",
            "['He', 'later', 'succeeded', 'J.', 'R.', 'D.', 'Tata', 'chairman', 'Tata', 'Sons', 'upon', 'latter', \"'s\", 'retirement', '1991', '.']\n",
            "['Under', 'tenure', 'Tata', 'Group', 'acquired', 'Tetley', ',', 'Jaguar', 'Land', 'Rover', ',', 'Corus', ',', 'attempt', 'turn', 'Tata', 'largely', 'India-centric', 'group', 'global', 'business', '.']\n",
            "['Tata', 'also', 'one', 'largest', 'philanthropist', 'world', ',', 'donated', 'around', '60–65', '%', 'income', 'charity', '.']\n"
          ]
        }
      ]
    },
    {
      "cell_type": "code",
      "source": [
        "sentences"
      ],
      "metadata": {
        "id": "bvMYc1sK5Qsr",
        "colab": {
          "base_uri": "https://localhost:8080/"
        },
        "outputId": "9c2897c3-27e8-43c3-a5f0-5c3e165bea2f"
      },
      "execution_count": 34,
      "outputs": [
        {
          "output_type": "execute_result",
          "data": {
            "text/plain": [
              "['This is the NLP session that is going on and filnnally we are happy.',\n",
              " 'Is everyone happy.',\n",
              " 'iNeuron is a company where we teaches the coding']"
            ]
          },
          "metadata": {},
          "execution_count": 34
        }
      ]
    },
    {
      "cell_type": "code",
      "source": [
        "sent"
      ],
      "metadata": {
        "colab": {
          "base_uri": "https://localhost:8080/"
        },
        "id": "Nc2IgJF4ihup",
        "outputId": "6e078e53-9f74-414f-9cbb-83bbd8de9348"
      },
      "execution_count": 35,
      "outputs": [
        {
          "output_type": "execute_result",
          "data": {
            "text/plain": [
              "['Ratan Naval Tata (born 28 December 1937) is an Indian industrialist, philanthropist and former chairman of Tata Sons.',\n",
              " 'He was a chairman of the Tata Group from 1990 to 2012, and interim chairman from October 2016 through February 2017.',\n",
              " 'He continues to head its charitable trusts.',\n",
              " '[2][3] In 2008, he received the Padma Vibhushan, the second highest civilian honour in India, after receiving the Padma Bhushan, the third highest civilian honour in 2000.',\n",
              " '[4]He is the son of Naval Tata, who was adopted by Ratanji Tata, son of Jamsetji Tata, the founder of the Tata Group.',\n",
              " \"He graduated from the Cornell University College of Architecture with a bachelor's degree in architecture.\",\n",
              " '[5] He joined Tata in 1961, where he worked on the shop floor of Tata Steel.',\n",
              " \"He later succeeded J. R. D. Tata as chairman of Tata Sons upon the latter's retirement in 1991.\",\n",
              " 'Under his tenure the Tata Group acquired Tetley, Jaguar Land Rover, and Corus, in an attempt to turn Tata from a largely India-centric group into a global business.',\n",
              " 'Tata is also one of the largest philanthropists in the world, having donated around 60–65% of his income to charity.']"
            ]
          },
          "metadata": {},
          "execution_count": 35
        }
      ]
    },
    {
      "cell_type": "code",
      "source": [
        "sent"
      ],
      "metadata": {
        "colab": {
          "base_uri": "https://localhost:8080/"
        },
        "id": "VCGBd2YLilMQ",
        "outputId": "0d0e9928-44bd-405a-876a-e477fe7dfdbd"
      },
      "execution_count": 36,
      "outputs": [
        {
          "output_type": "execute_result",
          "data": {
            "text/plain": [
              "['Ratan Naval Tata (born 28 December 1937) is an Indian industrialist, philanthropist and former chairman of Tata Sons.',\n",
              " 'He was a chairman of the Tata Group from 1990 to 2012, and interim chairman from October 2016 through February 2017.',\n",
              " 'He continues to head its charitable trusts.',\n",
              " '[2][3] In 2008, he received the Padma Vibhushan, the second highest civilian honour in India, after receiving the Padma Bhushan, the third highest civilian honour in 2000.',\n",
              " '[4]He is the son of Naval Tata, who was adopted by Ratanji Tata, son of Jamsetji Tata, the founder of the Tata Group.',\n",
              " \"He graduated from the Cornell University College of Architecture with a bachelor's degree in architecture.\",\n",
              " '[5] He joined Tata in 1961, where he worked on the shop floor of Tata Steel.',\n",
              " \"He later succeeded J. R. D. Tata as chairman of Tata Sons upon the latter's retirement in 1991.\",\n",
              " 'Under his tenure the Tata Group acquired Tetley, Jaguar Land Rover, and Corus, in an attempt to turn Tata from a largely India-centric group into a global business.',\n",
              " 'Tata is also one of the largest philanthropists in the world, having donated around 60–65% of his income to charity.']"
            ]
          },
          "metadata": {},
          "execution_count": 36
        }
      ]
    },
    {
      "cell_type": "code",
      "source": [
        "import re\n",
        "corpus=[]\n",
        "for i in range(len(sent)):\n",
        "  text=re.sub('[^a-zA-Z1-9]',' ',sent[i])\n",
        "  text=text.lower()\n",
        "  words=text.split()\n",
        "  words=[lemmatizer.lemmatize(word) for word in words if word not in stop_words]\n",
        "  print(words)\n",
        "  corpus.append(' '.join(words))\n"
      ],
      "metadata": {
        "colab": {
          "base_uri": "https://localhost:8080/"
        },
        "id": "cdCjTnwNjJ4S",
        "outputId": "86643e97-9a41-4ddf-ea56-47bd255ded0a"
      },
      "execution_count": 37,
      "outputs": [
        {
          "output_type": "stream",
          "name": "stdout",
          "text": [
            "['ratan', 'naval', 'tata', 'born', '28', 'december', '1937', 'indian', 'industrialist', 'philanthropist', 'former', 'chairman', 'tata', 'son']\n",
            "['chairman', 'tata', 'group', '199', '2', '12', 'interim', 'chairman', 'october', '2', '16', 'february', '2', '17']\n",
            "['continues', 'head', 'charitable', 'trust']\n",
            "['2', '3', '2', '8', 'received', 'padma', 'vibhushan', 'second', 'highest', 'civilian', 'honour', 'india', 'receiving', 'padma', 'bhushan', 'third', 'highest', 'civilian', 'honour', '2']\n",
            "['4', 'son', 'naval', 'tata', 'adopted', 'ratanji', 'tata', 'son', 'jamsetji', 'tata', 'founder', 'tata', 'group']\n",
            "['graduated', 'cornell', 'university', 'college', 'architecture', 'bachelor', 'degree', 'architecture']\n",
            "['5', 'joined', 'tata', '1961', 'worked', 'shop', 'floor', 'tata', 'steel']\n",
            "['later', 'succeeded', 'j', 'r', 'tata', 'chairman', 'tata', 'son', 'upon', 'latter', 'retirement', '1991']\n",
            "['tenure', 'tata', 'group', 'acquired', 'tetley', 'jaguar', 'land', 'rover', 'corus', 'attempt', 'turn', 'tata', 'largely', 'india', 'centric', 'group', 'global', 'business']\n",
            "['tata', 'also', 'one', 'largest', 'philanthropist', 'world', 'donated', 'around', '6', '65', 'income', 'charity']\n"
          ]
        }
      ]
    },
    {
      "cell_type": "code",
      "source": [
        "corpus"
      ],
      "metadata": {
        "colab": {
          "base_uri": "https://localhost:8080/"
        },
        "id": "ADr16Nixj_0i",
        "outputId": "805cf2b2-c014-4304-936f-9ebbfdc0988d"
      },
      "execution_count": 38,
      "outputs": [
        {
          "output_type": "execute_result",
          "data": {
            "text/plain": [
              "['ratan naval tata born 28 december 1937 indian industrialist philanthropist former chairman tata son',\n",
              " 'chairman tata group 199 2 12 interim chairman october 2 16 february 2 17',\n",
              " 'continues head charitable trust',\n",
              " '2 3 2 8 received padma vibhushan second highest civilian honour india receiving padma bhushan third highest civilian honour 2',\n",
              " '4 son naval tata adopted ratanji tata son jamsetji tata founder tata group',\n",
              " 'graduated cornell university college architecture bachelor degree architecture',\n",
              " '5 joined tata 1961 worked shop floor tata steel',\n",
              " 'later succeeded j r tata chairman tata son upon latter retirement 1991',\n",
              " 'tenure tata group acquired tetley jaguar land rover corus attempt turn tata largely india centric group global business',\n",
              " 'tata also one largest philanthropist world donated around 6 65 income charity']"
            ]
          },
          "metadata": {},
          "execution_count": 38
        }
      ]
    },
    {
      "cell_type": "code",
      "source": [
        "sent"
      ],
      "metadata": {
        "colab": {
          "base_uri": "https://localhost:8080/"
        },
        "id": "OBXU_iC8kJjh",
        "outputId": "b0decf0d-1296-442f-8618-c8c1fbb64487"
      },
      "execution_count": 39,
      "outputs": [
        {
          "output_type": "execute_result",
          "data": {
            "text/plain": [
              "['Ratan Naval Tata (born 28 December 1937) is an Indian industrialist, philanthropist and former chairman of Tata Sons.',\n",
              " 'He was a chairman of the Tata Group from 1990 to 2012, and interim chairman from October 2016 through February 2017.',\n",
              " 'He continues to head its charitable trusts.',\n",
              " '[2][3] In 2008, he received the Padma Vibhushan, the second highest civilian honour in India, after receiving the Padma Bhushan, the third highest civilian honour in 2000.',\n",
              " '[4]He is the son of Naval Tata, who was adopted by Ratanji Tata, son of Jamsetji Tata, the founder of the Tata Group.',\n",
              " \"He graduated from the Cornell University College of Architecture with a bachelor's degree in architecture.\",\n",
              " '[5] He joined Tata in 1961, where he worked on the shop floor of Tata Steel.',\n",
              " \"He later succeeded J. R. D. Tata as chairman of Tata Sons upon the latter's retirement in 1991.\",\n",
              " 'Under his tenure the Tata Group acquired Tetley, Jaguar Land Rover, and Corus, in an attempt to turn Tata from a largely India-centric group into a global business.',\n",
              " 'Tata is also one of the largest philanthropists in the world, having donated around 60–65% of his income to charity.']"
            ]
          },
          "metadata": {},
          "execution_count": 39
        }
      ]
    },
    {
      "cell_type": "code",
      "source": [
        "from sklearn.feature_extraction.text import CountVectorizer"
      ],
      "metadata": {
        "id": "4w7RwRWYi4QS"
      },
      "execution_count": 40,
      "outputs": []
    },
    {
      "cell_type": "code",
      "source": [
        "cv=CountVectorizer()"
      ],
      "metadata": {
        "id": "DitJgrYikNia"
      },
      "execution_count": 41,
      "outputs": []
    },
    {
      "cell_type": "code",
      "source": [
        "cv.fit_transform(corpus).toarray()"
      ],
      "metadata": {
        "colab": {
          "base_uri": "https://localhost:8080/"
        },
        "id": "9gmGaCBUklgR",
        "outputId": "598928f2-2f8e-4c9e-98d4-75368fc191e4"
      },
      "execution_count": 42,
      "outputs": [
        {
          "output_type": "execute_result",
          "data": {
            "text/plain": [
              "array([[0, 0, 0, 1, 0, 0, 0, 1, 0, 0, 0, 0, 0, 0, 0, 0, 0, 1, 0, 0, 1, 0,\n",
              "        0, 0, 0, 0, 0, 0, 1, 0, 0, 0, 0, 1, 0, 0, 0, 0, 0, 0, 0, 0, 0, 1,\n",
              "        1, 0, 0, 0, 0, 0, 0, 0, 0, 0, 1, 0, 0, 0, 1, 1, 0, 0, 0, 0, 0, 0,\n",
              "        0, 1, 0, 0, 2, 0, 0, 0, 0, 0, 0, 0, 0, 0, 0],\n",
              "       [1, 1, 1, 0, 0, 1, 0, 0, 0, 0, 0, 0, 0, 0, 0, 0, 0, 0, 0, 0, 2, 0,\n",
              "        0, 0, 0, 0, 0, 0, 0, 0, 0, 1, 0, 0, 0, 0, 0, 1, 0, 0, 0, 0, 0, 0,\n",
              "        0, 1, 0, 0, 0, 0, 0, 0, 0, 0, 0, 1, 0, 0, 0, 0, 0, 0, 0, 0, 0, 0,\n",
              "        0, 0, 0, 0, 1, 0, 0, 0, 0, 0, 0, 0, 0, 0, 0],\n",
              "       [0, 0, 0, 0, 0, 0, 0, 0, 0, 0, 0, 0, 0, 0, 0, 0, 0, 0, 0, 0, 0, 1,\n",
              "        0, 0, 0, 1, 0, 0, 0, 0, 0, 0, 0, 0, 0, 0, 0, 0, 1, 0, 0, 0, 0, 0,\n",
              "        0, 0, 0, 0, 0, 0, 0, 0, 0, 0, 0, 0, 0, 0, 0, 0, 0, 0, 0, 0, 0, 0,\n",
              "        0, 0, 0, 0, 0, 0, 0, 0, 1, 0, 0, 0, 0, 0, 0],\n",
              "       [0, 0, 0, 0, 0, 0, 0, 0, 0, 0, 0, 0, 0, 0, 0, 0, 1, 0, 0, 0, 0, 0,\n",
              "        0, 2, 0, 0, 0, 0, 0, 0, 0, 0, 0, 0, 0, 0, 0, 0, 0, 2, 2, 0, 1, 0,\n",
              "        0, 0, 0, 0, 0, 0, 0, 0, 0, 0, 0, 0, 0, 2, 0, 0, 0, 1, 1, 0, 0, 1,\n",
              "        0, 0, 0, 0, 0, 0, 0, 1, 0, 0, 0, 0, 1, 0, 0],\n",
              "       [0, 0, 0, 0, 0, 0, 0, 0, 0, 0, 1, 0, 0, 0, 0, 0, 0, 0, 0, 0, 0, 0,\n",
              "        0, 0, 0, 0, 0, 0, 0, 0, 0, 0, 0, 0, 1, 0, 0, 1, 0, 0, 0, 0, 0, 0,\n",
              "        0, 0, 0, 1, 0, 0, 0, 0, 0, 0, 1, 0, 0, 0, 0, 0, 1, 0, 0, 0, 0, 0,\n",
              "        0, 2, 0, 0, 4, 0, 0, 0, 0, 0, 0, 0, 0, 0, 0],\n",
              "       [0, 0, 0, 0, 0, 0, 0, 0, 0, 0, 0, 0, 2, 0, 0, 1, 0, 0, 0, 0, 0, 0,\n",
              "        0, 0, 1, 0, 1, 0, 0, 1, 0, 0, 0, 0, 0, 0, 1, 0, 0, 0, 0, 0, 0, 0,\n",
              "        0, 0, 0, 0, 0, 0, 0, 0, 0, 0, 0, 0, 0, 0, 0, 0, 0, 0, 0, 0, 0, 0,\n",
              "        0, 0, 0, 0, 0, 0, 0, 0, 0, 0, 1, 0, 0, 0, 0],\n",
              "       [0, 0, 0, 0, 1, 0, 0, 0, 0, 0, 0, 0, 0, 0, 0, 0, 0, 0, 0, 0, 0, 0,\n",
              "        0, 0, 0, 0, 0, 0, 0, 0, 0, 0, 1, 0, 0, 0, 0, 0, 0, 0, 0, 0, 0, 0,\n",
              "        0, 0, 0, 0, 1, 0, 0, 0, 0, 0, 0, 0, 0, 0, 0, 0, 0, 0, 0, 0, 0, 0,\n",
              "        1, 0, 1, 0, 2, 0, 0, 0, 0, 0, 0, 0, 0, 1, 0],\n",
              "       [0, 0, 0, 0, 0, 0, 1, 0, 0, 0, 0, 0, 0, 0, 0, 0, 0, 0, 0, 0, 1, 0,\n",
              "        0, 0, 0, 0, 0, 0, 0, 0, 0, 0, 0, 0, 0, 0, 0, 0, 0, 0, 0, 0, 0, 0,\n",
              "        0, 0, 0, 0, 0, 0, 0, 0, 1, 1, 0, 0, 0, 0, 0, 0, 0, 0, 0, 1, 0, 0,\n",
              "        0, 1, 0, 1, 2, 0, 0, 0, 0, 0, 0, 1, 0, 0, 0],\n",
              "       [0, 0, 0, 0, 0, 0, 0, 0, 0, 1, 0, 0, 0, 0, 1, 0, 0, 0, 1, 1, 0, 0,\n",
              "        0, 0, 0, 0, 0, 1, 0, 0, 0, 0, 0, 0, 0, 1, 0, 2, 0, 0, 0, 0, 1, 0,\n",
              "        0, 0, 1, 0, 0, 1, 1, 0, 0, 0, 0, 0, 0, 0, 0, 0, 0, 0, 0, 0, 1, 0,\n",
              "        0, 0, 0, 0, 2, 1, 1, 0, 0, 1, 0, 0, 0, 0, 0],\n",
              "       [0, 0, 0, 0, 0, 0, 0, 0, 1, 0, 0, 1, 0, 1, 0, 0, 0, 0, 0, 0, 0, 0,\n",
              "        1, 0, 0, 0, 0, 0, 0, 0, 1, 0, 0, 0, 0, 0, 0, 0, 0, 0, 0, 1, 0, 0,\n",
              "        0, 0, 0, 0, 0, 0, 0, 1, 0, 0, 0, 0, 1, 0, 1, 0, 0, 0, 0, 0, 0, 0,\n",
              "        0, 0, 0, 0, 1, 0, 0, 0, 0, 0, 0, 0, 0, 0, 1]])"
            ]
          },
          "metadata": {},
          "execution_count": 42
        }
      ]
    },
    {
      "cell_type": "code",
      "source": [
        "cv.vocabulary_"
      ],
      "metadata": {
        "colab": {
          "base_uri": "https://localhost:8080/"
        },
        "id": "bEB66XDKkq_S",
        "outputId": "49197369-6563-4146-b3a2-f9ca4a93a103"
      },
      "execution_count": 43,
      "outputs": [
        {
          "output_type": "execute_result",
          "data": {
            "text/plain": [
              "{'ratan': 59,\n",
              " 'naval': 54,\n",
              " 'tata': 70,\n",
              " 'born': 17,\n",
              " '28': 7,\n",
              " 'december': 28,\n",
              " '1937': 3,\n",
              " 'indian': 43,\n",
              " 'industrialist': 44,\n",
              " 'philanthropist': 58,\n",
              " 'former': 33,\n",
              " 'chairman': 20,\n",
              " 'son': 67,\n",
              " 'group': 37,\n",
              " '199': 5,\n",
              " '12': 0,\n",
              " 'interim': 45,\n",
              " 'october': 55,\n",
              " '16': 1,\n",
              " 'february': 31,\n",
              " '17': 2,\n",
              " 'continues': 25,\n",
              " 'head': 38,\n",
              " 'charitable': 21,\n",
              " 'trust': 74,\n",
              " 'received': 61,\n",
              " 'padma': 57,\n",
              " 'vibhushan': 78,\n",
              " 'second': 65,\n",
              " 'highest': 39,\n",
              " 'civilian': 23,\n",
              " 'honour': 40,\n",
              " 'india': 42,\n",
              " 'receiving': 62,\n",
              " 'bhushan': 16,\n",
              " 'third': 73,\n",
              " 'adopted': 10,\n",
              " 'ratanji': 60,\n",
              " 'jamsetji': 47,\n",
              " 'founder': 34,\n",
              " 'graduated': 36,\n",
              " 'cornell': 26,\n",
              " 'university': 76,\n",
              " 'college': 24,\n",
              " 'architecture': 12,\n",
              " 'bachelor': 15,\n",
              " 'degree': 29,\n",
              " 'joined': 48,\n",
              " '1961': 4,\n",
              " 'worked': 79,\n",
              " 'shop': 66,\n",
              " 'floor': 32,\n",
              " 'steel': 68,\n",
              " 'later': 52,\n",
              " 'succeeded': 69,\n",
              " 'upon': 77,\n",
              " 'latter': 53,\n",
              " 'retirement': 63,\n",
              " '1991': 6,\n",
              " 'tenure': 71,\n",
              " 'acquired': 9,\n",
              " 'tetley': 72,\n",
              " 'jaguar': 46,\n",
              " 'land': 49,\n",
              " 'rover': 64,\n",
              " 'corus': 27,\n",
              " 'attempt': 14,\n",
              " 'turn': 75,\n",
              " 'largely': 50,\n",
              " 'centric': 19,\n",
              " 'global': 35,\n",
              " 'business': 18,\n",
              " 'also': 11,\n",
              " 'one': 56,\n",
              " 'largest': 51,\n",
              " 'world': 80,\n",
              " 'donated': 30,\n",
              " 'around': 13,\n",
              " '65': 8,\n",
              " 'income': 41,\n",
              " 'charity': 22}"
            ]
          },
          "metadata": {},
          "execution_count": 43
        }
      ]
    },
    {
      "cell_type": "code",
      "source": [
        "from sklearn.feature_extraction.text import TfidfVectorizer"
      ],
      "metadata": {
        "id": "pF2uqdrek055"
      },
      "execution_count": 44,
      "outputs": []
    },
    {
      "cell_type": "code",
      "source": [
        "tf_idf=TfidfVectorizer()"
      ],
      "metadata": {
        "id": "lMmpshEDTodo"
      },
      "execution_count": 45,
      "outputs": []
    },
    {
      "cell_type": "code",
      "source": [
        "tf_idf.fit_transform(corpus).toarray()"
      ],
      "metadata": {
        "colab": {
          "base_uri": "https://localhost:8080/"
        },
        "id": "rXGVP2ZLTub2",
        "outputId": "4a72dfb5-53f8-4d62-db07-c09dfcc33949"
      },
      "execution_count": 48,
      "outputs": [
        {
          "output_type": "execute_result",
          "data": {
            "text/plain": [
              "array([[0.        , 0.        , 0.        , 0.29485773, 0.        ,\n",
              "        0.        , 0.        , 0.29485773, 0.        , 0.        ,\n",
              "        0.        , 0.        , 0.        , 0.        , 0.        ,\n",
              "        0.        , 0.        , 0.29485773, 0.        , 0.        ,\n",
              "        0.21929439, 0.        , 0.        , 0.        , 0.        ,\n",
              "        0.        , 0.        , 0.        , 0.29485773, 0.        ,\n",
              "        0.        , 0.        , 0.        , 0.29485773, 0.        ,\n",
              "        0.        , 0.        , 0.        , 0.        , 0.        ,\n",
              "        0.        , 0.        , 0.        , 0.29485773, 0.29485773,\n",
              "        0.        , 0.        , 0.        , 0.        , 0.        ,\n",
              "        0.        , 0.        , 0.        , 0.        , 0.250656  ,\n",
              "        0.        , 0.        , 0.        , 0.250656  , 0.29485773,\n",
              "        0.        , 0.        , 0.        , 0.        , 0.        ,\n",
              "        0.        , 0.        , 0.21929439, 0.        , 0.        ,\n",
              "        0.28746209, 0.        , 0.        , 0.        , 0.        ,\n",
              "        0.        , 0.        , 0.        , 0.        , 0.        ,\n",
              "        0.        ],\n",
              "       [0.31617585, 0.31617585, 0.31617585, 0.        , 0.        ,\n",
              "        0.31617585, 0.        , 0.        , 0.        , 0.        ,\n",
              "        0.        , 0.        , 0.        , 0.        , 0.        ,\n",
              "        0.        , 0.        , 0.        , 0.        , 0.        ,\n",
              "        0.47029861, 0.        , 0.        , 0.        , 0.        ,\n",
              "        0.        , 0.        , 0.        , 0.        , 0.        ,\n",
              "        0.        , 0.31617585, 0.        , 0.        , 0.        ,\n",
              "        0.        , 0.        , 0.23514931, 0.        , 0.        ,\n",
              "        0.        , 0.        , 0.        , 0.        , 0.        ,\n",
              "        0.31617585, 0.        , 0.        , 0.        , 0.        ,\n",
              "        0.        , 0.        , 0.        , 0.        , 0.        ,\n",
              "        0.31617585, 0.        , 0.        , 0.        , 0.        ,\n",
              "        0.        , 0.        , 0.        , 0.        , 0.        ,\n",
              "        0.        , 0.        , 0.        , 0.        , 0.        ,\n",
              "        0.15412276, 0.        , 0.        , 0.        , 0.        ,\n",
              "        0.        , 0.        , 0.        , 0.        , 0.        ,\n",
              "        0.        ],\n",
              "       [0.        , 0.        , 0.        , 0.        , 0.        ,\n",
              "        0.        , 0.        , 0.        , 0.        , 0.        ,\n",
              "        0.        , 0.        , 0.        , 0.        , 0.        ,\n",
              "        0.        , 0.        , 0.        , 0.        , 0.        ,\n",
              "        0.        , 0.5       , 0.        , 0.        , 0.        ,\n",
              "        0.5       , 0.        , 0.        , 0.        , 0.        ,\n",
              "        0.        , 0.        , 0.        , 0.        , 0.        ,\n",
              "        0.        , 0.        , 0.        , 0.5       , 0.        ,\n",
              "        0.        , 0.        , 0.        , 0.        , 0.        ,\n",
              "        0.        , 0.        , 0.        , 0.        , 0.        ,\n",
              "        0.        , 0.        , 0.        , 0.        , 0.        ,\n",
              "        0.        , 0.        , 0.        , 0.        , 0.        ,\n",
              "        0.        , 0.        , 0.        , 0.        , 0.        ,\n",
              "        0.        , 0.        , 0.        , 0.        , 0.        ,\n",
              "        0.        , 0.        , 0.        , 0.        , 0.5       ,\n",
              "        0.        , 0.        , 0.        , 0.        , 0.        ,\n",
              "        0.        ],\n",
              "       [0.        , 0.        , 0.        , 0.        , 0.        ,\n",
              "        0.        , 0.        , 0.        , 0.        , 0.        ,\n",
              "        0.        , 0.        , 0.        , 0.        , 0.        ,\n",
              "        0.        , 0.20978308, 0.        , 0.        , 0.        ,\n",
              "        0.        , 0.        , 0.        , 0.41956616, 0.        ,\n",
              "        0.        , 0.        , 0.        , 0.        , 0.        ,\n",
              "        0.        , 0.        , 0.        , 0.        , 0.        ,\n",
              "        0.        , 0.        , 0.        , 0.        , 0.41956616,\n",
              "        0.41956616, 0.        , 0.17833478, 0.        , 0.        ,\n",
              "        0.        , 0.        , 0.        , 0.        , 0.        ,\n",
              "        0.        , 0.        , 0.        , 0.        , 0.        ,\n",
              "        0.        , 0.        , 0.41956616, 0.        , 0.        ,\n",
              "        0.        , 0.20978308, 0.20978308, 0.        , 0.        ,\n",
              "        0.20978308, 0.        , 0.        , 0.        , 0.        ,\n",
              "        0.        , 0.        , 0.        , 0.20978308, 0.        ,\n",
              "        0.        , 0.        , 0.        , 0.20978308, 0.        ,\n",
              "        0.        ],\n",
              "       [0.        , 0.        , 0.        , 0.        , 0.        ,\n",
              "        0.        , 0.        , 0.        , 0.        , 0.        ,\n",
              "        0.29761136, 0.        , 0.        , 0.        , 0.        ,\n",
              "        0.        , 0.        , 0.        , 0.        , 0.        ,\n",
              "        0.        , 0.        , 0.        , 0.        , 0.        ,\n",
              "        0.        , 0.        , 0.        , 0.        , 0.        ,\n",
              "        0.        , 0.        , 0.        , 0.        , 0.29761136,\n",
              "        0.        , 0.        , 0.22134235, 0.        , 0.        ,\n",
              "        0.        , 0.        , 0.        , 0.        , 0.        ,\n",
              "        0.        , 0.        , 0.29761136, 0.        , 0.        ,\n",
              "        0.        , 0.        , 0.        , 0.        , 0.25299685,\n",
              "        0.        , 0.        , 0.        , 0.        , 0.        ,\n",
              "        0.29761136, 0.        , 0.        , 0.        , 0.        ,\n",
              "        0.        , 0.        , 0.44268469, 0.        , 0.        ,\n",
              "        0.58029332, 0.        , 0.        , 0.        , 0.        ,\n",
              "        0.        , 0.        , 0.        , 0.        , 0.        ,\n",
              "        0.        ],\n",
              "       [0.        , 0.        , 0.        , 0.        , 0.        ,\n",
              "        0.        , 0.        , 0.        , 0.        , 0.        ,\n",
              "        0.        , 0.        , 0.63245553, 0.        , 0.        ,\n",
              "        0.31622777, 0.        , 0.        , 0.        , 0.        ,\n",
              "        0.        , 0.        , 0.        , 0.        , 0.31622777,\n",
              "        0.        , 0.31622777, 0.        , 0.        , 0.31622777,\n",
              "        0.        , 0.        , 0.        , 0.        , 0.        ,\n",
              "        0.        , 0.31622777, 0.        , 0.        , 0.        ,\n",
              "        0.        , 0.        , 0.        , 0.        , 0.        ,\n",
              "        0.        , 0.        , 0.        , 0.        , 0.        ,\n",
              "        0.        , 0.        , 0.        , 0.        , 0.        ,\n",
              "        0.        , 0.        , 0.        , 0.        , 0.        ,\n",
              "        0.        , 0.        , 0.        , 0.        , 0.        ,\n",
              "        0.        , 0.        , 0.        , 0.        , 0.        ,\n",
              "        0.        , 0.        , 0.        , 0.        , 0.        ,\n",
              "        0.        , 0.31622777, 0.        , 0.        , 0.        ,\n",
              "        0.        ],\n",
              "       [0.        , 0.        , 0.        , 0.        , 0.37930893,\n",
              "        0.        , 0.        , 0.        , 0.        , 0.        ,\n",
              "        0.        , 0.        , 0.        , 0.        , 0.        ,\n",
              "        0.        , 0.        , 0.        , 0.        , 0.        ,\n",
              "        0.        , 0.        , 0.        , 0.        , 0.        ,\n",
              "        0.        , 0.        , 0.        , 0.        , 0.        ,\n",
              "        0.        , 0.        , 0.37930893, 0.        , 0.        ,\n",
              "        0.        , 0.        , 0.        , 0.        , 0.        ,\n",
              "        0.        , 0.        , 0.        , 0.        , 0.        ,\n",
              "        0.        , 0.        , 0.        , 0.37930893, 0.        ,\n",
              "        0.        , 0.        , 0.        , 0.        , 0.        ,\n",
              "        0.        , 0.        , 0.        , 0.        , 0.        ,\n",
              "        0.        , 0.        , 0.        , 0.        , 0.        ,\n",
              "        0.        , 0.37930893, 0.        , 0.37930893, 0.        ,\n",
              "        0.36979509, 0.        , 0.        , 0.        , 0.        ,\n",
              "        0.        , 0.        , 0.        , 0.        , 0.37930893,\n",
              "        0.        ],\n",
              "       [0.        , 0.        , 0.        , 0.        , 0.        ,\n",
              "        0.        , 0.3523064 , 0.        , 0.        , 0.        ,\n",
              "        0.        , 0.        , 0.        , 0.        , 0.        ,\n",
              "        0.        , 0.        , 0.        , 0.        , 0.        ,\n",
              "        0.26202066, 0.        , 0.        , 0.        , 0.        ,\n",
              "        0.        , 0.        , 0.        , 0.        , 0.        ,\n",
              "        0.        , 0.        , 0.        , 0.        , 0.        ,\n",
              "        0.        , 0.        , 0.        , 0.        , 0.        ,\n",
              "        0.        , 0.        , 0.        , 0.        , 0.        ,\n",
              "        0.        , 0.        , 0.        , 0.        , 0.        ,\n",
              "        0.        , 0.        , 0.3523064 , 0.3523064 , 0.        ,\n",
              "        0.        , 0.        , 0.        , 0.        , 0.        ,\n",
              "        0.        , 0.        , 0.        , 0.3523064 , 0.        ,\n",
              "        0.        , 0.        , 0.26202066, 0.        , 0.3523064 ,\n",
              "        0.34346984, 0.        , 0.        , 0.        , 0.        ,\n",
              "        0.        , 0.        , 0.3523064 , 0.        , 0.        ,\n",
              "        0.        ],\n",
              "       [0.        , 0.        , 0.        , 0.        , 0.        ,\n",
              "        0.        , 0.        , 0.        , 0.        , 0.24335544,\n",
              "        0.        , 0.        , 0.        , 0.        , 0.24335544,\n",
              "        0.        , 0.        , 0.        , 0.24335544, 0.24335544,\n",
              "        0.        , 0.        , 0.        , 0.        , 0.        ,\n",
              "        0.        , 0.        , 0.24335544, 0.        , 0.        ,\n",
              "        0.        , 0.        , 0.        , 0.        , 0.        ,\n",
              "        0.24335544, 0.        , 0.36198123, 0.        , 0.        ,\n",
              "        0.        , 0.        , 0.20687435, 0.        , 0.        ,\n",
              "        0.        , 0.24335544, 0.        , 0.        , 0.24335544,\n",
              "        0.24335544, 0.        , 0.        , 0.        , 0.        ,\n",
              "        0.        , 0.        , 0.        , 0.        , 0.        ,\n",
              "        0.        , 0.        , 0.        , 0.        , 0.24335544,\n",
              "        0.        , 0.        , 0.        , 0.        , 0.        ,\n",
              "        0.23725158, 0.24335544, 0.24335544, 0.        , 0.        ,\n",
              "        0.24335544, 0.        , 0.        , 0.        , 0.        ,\n",
              "        0.        ],\n",
              "       [0.        , 0.        , 0.        , 0.        , 0.        ,\n",
              "        0.        , 0.        , 0.        , 0.31685781, 0.        ,\n",
              "        0.        , 0.31685781, 0.        , 0.31685781, 0.        ,\n",
              "        0.        , 0.        , 0.        , 0.        , 0.        ,\n",
              "        0.        , 0.        , 0.31685781, 0.        , 0.        ,\n",
              "        0.        , 0.        , 0.        , 0.        , 0.        ,\n",
              "        0.31685781, 0.        , 0.        , 0.        , 0.        ,\n",
              "        0.        , 0.        , 0.        , 0.        , 0.        ,\n",
              "        0.        , 0.31685781, 0.        , 0.        , 0.        ,\n",
              "        0.        , 0.        , 0.        , 0.        , 0.        ,\n",
              "        0.        , 0.31685781, 0.        , 0.        , 0.        ,\n",
              "        0.        , 0.31685781, 0.        , 0.26935808, 0.        ,\n",
              "        0.        , 0.        , 0.        , 0.        , 0.        ,\n",
              "        0.        , 0.        , 0.        , 0.        , 0.        ,\n",
              "        0.15445518, 0.        , 0.        , 0.        , 0.        ,\n",
              "        0.        , 0.        , 0.        , 0.        , 0.        ,\n",
              "        0.31685781]])"
            ]
          },
          "metadata": {},
          "execution_count": 48
        }
      ]
    },
    {
      "cell_type": "code",
      "source": [
        "#new test data\n",
        "\n",
        "data=[\"i want to the food\"]\n",
        "cv.transform(data).toarray()"
      ],
      "metadata": {
        "colab": {
          "base_uri": "https://localhost:8080/"
        },
        "id": "D_3uVG_MUaEf",
        "outputId": "8596d6e0-f5ce-41bc-dba4-527f5bdda6d0"
      },
      "execution_count": 53,
      "outputs": [
        {
          "output_type": "execute_result",
          "data": {
            "text/plain": [
              "array([[0, 0, 0, 0, 0, 0, 0, 0, 0, 0, 0, 0, 0, 0, 0, 0, 0, 0, 0, 0, 0, 0,\n",
              "        0, 0, 0, 0, 0, 0, 0, 0, 0, 0, 0, 0, 0, 0, 0, 0, 0, 0, 0, 0, 0, 0,\n",
              "        0, 0, 0, 0, 0, 0, 0, 0, 0, 0, 0, 0, 0, 0, 0, 0, 0, 0, 0, 0, 0, 0,\n",
              "        0, 0, 0, 0, 0, 0, 0, 0, 0, 0, 0, 0, 0, 0, 0]])"
            ]
          },
          "metadata": {},
          "execution_count": 53
        }
      ]
    },
    {
      "cell_type": "code",
      "source": [
        "cv.vocabulary_"
      ],
      "metadata": {
        "colab": {
          "base_uri": "https://localhost:8080/"
        },
        "id": "SfzcqTyaTzCe",
        "outputId": "87aadc83-2902-4203-a94c-1fcc42fb251b"
      },
      "execution_count": 49,
      "outputs": [
        {
          "output_type": "execute_result",
          "data": {
            "text/plain": [
              "{'ratan': 59,\n",
              " 'naval': 54,\n",
              " 'tata': 70,\n",
              " 'born': 17,\n",
              " '28': 7,\n",
              " 'december': 28,\n",
              " '1937': 3,\n",
              " 'indian': 43,\n",
              " 'industrialist': 44,\n",
              " 'philanthropist': 58,\n",
              " 'former': 33,\n",
              " 'chairman': 20,\n",
              " 'son': 67,\n",
              " 'group': 37,\n",
              " '199': 5,\n",
              " '12': 0,\n",
              " 'interim': 45,\n",
              " 'october': 55,\n",
              " '16': 1,\n",
              " 'february': 31,\n",
              " '17': 2,\n",
              " 'continues': 25,\n",
              " 'head': 38,\n",
              " 'charitable': 21,\n",
              " 'trust': 74,\n",
              " 'received': 61,\n",
              " 'padma': 57,\n",
              " 'vibhushan': 78,\n",
              " 'second': 65,\n",
              " 'highest': 39,\n",
              " 'civilian': 23,\n",
              " 'honour': 40,\n",
              " 'india': 42,\n",
              " 'receiving': 62,\n",
              " 'bhushan': 16,\n",
              " 'third': 73,\n",
              " 'adopted': 10,\n",
              " 'ratanji': 60,\n",
              " 'jamsetji': 47,\n",
              " 'founder': 34,\n",
              " 'graduated': 36,\n",
              " 'cornell': 26,\n",
              " 'university': 76,\n",
              " 'college': 24,\n",
              " 'architecture': 12,\n",
              " 'bachelor': 15,\n",
              " 'degree': 29,\n",
              " 'joined': 48,\n",
              " '1961': 4,\n",
              " 'worked': 79,\n",
              " 'shop': 66,\n",
              " 'floor': 32,\n",
              " 'steel': 68,\n",
              " 'later': 52,\n",
              " 'succeeded': 69,\n",
              " 'upon': 77,\n",
              " 'latter': 53,\n",
              " 'retirement': 63,\n",
              " '1991': 6,\n",
              " 'tenure': 71,\n",
              " 'acquired': 9,\n",
              " 'tetley': 72,\n",
              " 'jaguar': 46,\n",
              " 'land': 49,\n",
              " 'rover': 64,\n",
              " 'corus': 27,\n",
              " 'attempt': 14,\n",
              " 'turn': 75,\n",
              " 'largely': 50,\n",
              " 'centric': 19,\n",
              " 'global': 35,\n",
              " 'business': 18,\n",
              " 'also': 11,\n",
              " 'one': 56,\n",
              " 'largest': 51,\n",
              " 'world': 80,\n",
              " 'donated': 30,\n",
              " 'around': 13,\n",
              " '65': 8,\n",
              " 'income': 41,\n",
              " 'charity': 22}"
            ]
          },
          "metadata": {},
          "execution_count": 49
        }
      ]
    },
    {
      "cell_type": "code",
      "source": [
        "import pickle\n",
        "pickle.dump(tf_idf,open(\"tfidf.pkl\",\"wb\"))"
      ],
      "metadata": {
        "id": "FC_QgGCrUKft"
      },
      "execution_count": 56,
      "outputs": []
    },
    {
      "cell_type": "code",
      "source": [],
      "metadata": {
        "id": "ObtDrgVPYEAG"
      },
      "execution_count": null,
      "outputs": []
    }
  ]
}